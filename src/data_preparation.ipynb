{
 "cells": [
  {
   "cell_type": "code",
   "execution_count": null,
   "metadata": {
    "collapsed": true
   },
   "outputs": [],
   "source": [
    "import datetime\n",
    "import glob\n",
    "import os\n",
    "import re\n",
    "import zipfile\n",
    "from string import Template\n",
    "\n",
    "import pandas as pd\n",
    "import requests\n",
    "from autocorrect import Speller"
   ]
  },
  {
   "cell_type": "code",
   "execution_count": null,
   "outputs": [],
   "source": [
    "def download_dataset(url, target_path=\"data\", keep_download=True, overwrite_download=False):\n",
    "    \"\"\"Downloads dataset from a url.\n",
    "    url: string, a dataset path\n",
    "    target_path: string, path where data will be downloaded\n",
    "    keep_download: boolean, keeps the original file after extraction\n",
    "    overwrite_download: boolean, stops download if dataset already exists\n",
    "    \"\"\"\n",
    "    if url == \"\" or url is None:\n",
    "        raise Exception('URL is empty')\n",
    "\n",
    "    filename = os.path.basename(url)\n",
    "    file_location = os.path.join(target_path, filename)\n",
    "\n",
    "    os.makedirs(target_path, exist_ok=True)\n",
    "\n",
    "    if os.path.exists(file_location) and not overwrite_download:\n",
    "        print(f\"Archive already exists at {file_location}. Use: 'overwrite_download=True' to \\\n",
    "overwrite download\")\n",
    "        extract_file(target_path, filename)\n",
    "        return\n",
    "\n",
    "    print(f\"Downloading file from {url} to {file_location}.\")\n",
    "    # Download\n",
    "    with open(file_location, 'wb') as f:\n",
    "        with requests.get(url, allow_redirects=True, stream=True) as resp:\n",
    "            for chunk in resp.iter_content(chunk_size=512):  #chunk_size in bytes\n",
    "                if chunk:\n",
    "                    f.write(chunk)\n",
    "\n",
    "    print(\"Finished downloading.\")\n",
    "    extract_file(target_path, filename)\n",
    "\n",
    "    if not keep_download:\n",
    "        os.remove(file_location)\n"
   ],
   "metadata": {
    "collapsed": false
   }
  },
  {
   "cell_type": "code",
   "execution_count": null,
   "outputs": [],
   "source": [
    "def extract_file(target_path, filename):\n",
    "    \"\"\"Extract file\n",
    "    target_path: string, location where data will be extracted\n",
    "    filename: string, name of the file\n",
    "    \"\"\"\n",
    "    file_location = os.path.join(target_path, filename)\n",
    "\n",
    "    if os.path.exists(os.path.splitext(file_location)[0]):\n",
    "        print(f\"Extracted folder already exists at {os.path.splitext(file_location)[0]}\")\n",
    "    else:\n",
    "        print(\"Extracting the file now ...\")\n",
    "        zipf = zipfile.ZipFile(file_location, 'r')\n",
    "        zipf.extractall(target_path)\n",
    "        zipf.close()\n",
    "        print(f'Successfully extracted file {file_location}')"
   ],
   "metadata": {
    "collapsed": false
   }
  },
  {
   "cell_type": "code",
   "execution_count": null,
   "outputs": [],
   "source": [
    "def process_dataset(dataset_name, data_directory=\"data\", output_directory=\"processed\", deduplicate=False,\n",
    "                    min_speech_length=20):\n",
    "    # Create an output directory\n",
    "    os.makedirs(os.path.join(data_directory, output_directory), exist_ok=True)\n",
    "\n",
    "    # Find all speech files\n",
    "    speech_file_pattern = re.compile('speeches_[0-9]+.txt')\n",
    "    # Find all speaker map files\n",
    "    speaker_map_file_template = Template('${session}_SpeakerMap.txt')\n",
    "    # Find all description files\n",
    "    description_file_template = Template('descr_${session}.txt')\n",
    "    # Set a template for output files\n",
    "    output_file_template = Template(f'{dataset_name}-$session.csv')\n",
    "\n",
    "    # Get all txt files in the data directory\n",
    "    files = glob.glob(os.path.join(data_directory, dataset_name, '*.txt'))\n",
    "    # Find speech files\n",
    "    speech_files = [file for file in files if speech_file_pattern.match(os.path.basename(file))]\n",
    "\n",
    "    speller = Speller(only_replacements=True, fast=True)\n",
    "\n",
    "    # Process all speech files\n",
    "    for speech_file in speech_files:\n",
    "        print(f\"Processing file {speech_file}...\")\n",
    "\n",
    "        # Get a session number\n",
    "        session = re.search('\\d+', speech_file).group()\n",
    "\n",
    "        # Filter out all sessions before 2000\n",
    "        if session < '106':\n",
    "            continue\n",
    "\n",
    "        # Get a corresponding speaker map\n",
    "        speaker_map_file = speaker_map_file_template.substitute(session=session)\n",
    "\n",
    "        # Get a corresponding description\n",
    "        description_file = description_file_template.substitute(session=session)\n",
    "\n",
    "        # Get all speeches from the speech file\n",
    "        speeches = []\n",
    "        speech_ids = []\n",
    "        with open(speech_file, 'r', encoding='unicode_escape', errors='backslashreplace') as file:\n",
    "            # Skip the header\n",
    "            file.readline()\n",
    "            # Process all file lines\n",
    "            while line := file.readline().rstrip():\n",
    "                # Remove redundant characters\n",
    "                line = re.sub(r\"[^A-Za-z0-9 '\\\"|$.,-]+\", ' ', line)\n",
    "\n",
    "                line_parts = line.split('|')\n",
    "                if line_parts[0].isdigit():\n",
    "                    speech_ids.append(int(line_parts[0]))\n",
    "                    speeches.append(' '.join(line_parts[1:]))\n",
    "                else:\n",
    "                    speeches[-1] += line\n",
    "\n",
    "        for i, speech in enumerate(speeches):\n",
    "            # Replace full stops with commas where applicable\n",
    "            output = re.sub(r'(\\b[A-Za-z]+) *\\. *([a-z]+)', lambda m: f'{m.group(1)}, {m.group(2)}', speech)\n",
    "            while speech != output:\n",
    "                speech = output\n",
    "                output = re.sub(r'(\\b[a-z]+) *\\. *([a-z]+)', lambda m: f'{m.group(1)}, {m.group(2)}', speech)\n",
    "\n",
    "            # Remove frequent phrases\n",
    "            speech = re.sub(r\"(([,.]+ *)|^)Madam Clerk[.,]*\", '', speech, flags=re.IGNORECASE)\n",
    "            speech = re.sub(r\"(([,.]+ *)|^)Mr[.,]* Clerk[.,]*\", '', speech, flags=re.IGNORECASE)\n",
    "            speech = re.sub(r\"(([,.]+ *)|^)Mr[.,]* President[.,]*\", '', speech, flags=re.IGNORECASE)\n",
    "            speech = re.sub(r\"(([,.]+ *)|^)Mr[.,]* Speaker[.,]*\", '', speech, flags=re.IGNORECASE)\n",
    "            speech = re.sub(r\"(([,.]+ *)|^)Madam Speaker[.,]*\", '', speech, flags=re.IGNORECASE)\n",
    "\n",
    "            # Remove adjacent spaces\n",
    "            speech = re.sub(r' +', ' ', speech).strip()\n",
    "\n",
    "            # Separate sentences with a single space\n",
    "            output = re.sub(r'(\\b[A-Za-z]+) *([.?!]) *([A-Za-z]+)',\n",
    "                            lambda m: f'{m.group(1)}{m.group(2)} {m.group(3).capitalize()}', speech)\n",
    "            while speech != output:\n",
    "                speech = output\n",
    "                output = re.sub(r'(\\b[A-Za-z]+) *([.?!]) *([A-Za-z]+)',\n",
    "                                lambda m: f'{m.group(1)}{m.group(2)} {m.group(3).capitalize()}', speech)\n",
    "\n",
    "            speech = re.sub(r'^[a-z]+', lambda m: m.group().capitalize(), speech)\n",
    "\n",
    "            speeches[i] = speller(speech)\n",
    "\n",
    "        speech = pd.DataFrame({\"speech_id\": speech_ids, \"speech\": speeches})\n",
    "\n",
    "        speaker_map = pd.read_csv(os.path.join(data_directory, dataset_name, speaker_map_file), sep='|')\n",
    "\n",
    "        custom_date_parser = lambda x: datetime.datetime.strptime(x, \"%Y%m%d\").date()\n",
    "        description = pd.read_csv(os.path.join(data_directory, dataset_name, description_file), sep='|',\n",
    "                                  parse_dates=['date'], date_parser=custom_date_parser)\n",
    "\n",
    "        joined = pd.merge(speech, speaker_map, on='speech_id')\n",
    "        joined = pd.merge(joined, description[['speech_id', 'date']], on='speech_id')\n",
    "\n",
    "        dataset = joined[['speech', 'date', 'party', 'lastname', 'firstname', 'state', 'speakerid']].reset_index(\n",
    "            drop=True)\n",
    "\n",
    "        dataset['speakerid'] = dataset['speakerid'].apply(lambda x: str(x)[3:])\n",
    "\n",
    "        dataset = dataset[dataset['party'].isin(['R', 'D'])]\n",
    "\n",
    "        dataset = dataset[dataset['speech'].apply(lambda x: len(x.split()) >= min_speech_length)]\n",
    "\n",
    "        if deduplicate:\n",
    "            dataset = dataset.drop_duplicates(subset=['speech'], keep=False)\n",
    "\n",
    "        output_file = output_file_template.substitute(session=session)\n",
    "        dataset.to_csv(os.path.join(data_directory, output_directory, output_file), index=False)\n",
    "\n",
    "        print(f\"Processed file {output_file} was saved to {os.path.join(data_directory, output_directory)}\")\n"
   ],
   "metadata": {
    "collapsed": false
   }
  },
  {
   "cell_type": "code",
   "execution_count": null,
   "outputs": [],
   "source": [
    "HEIN_BOUND_URL = \"https://stacks.stanford.edu/file/druid:md374tz9962/hein-bound.zip\"\n",
    "HEIN_DAILY_URL = \"https://stacks.stanford.edu/file/druid:md374tz9962/hein-daily.zip\""
   ],
   "metadata": {
    "collapsed": false
   }
  },
  {
   "cell_type": "code",
   "execution_count": null,
   "outputs": [],
   "source": [
    "#download_dataset(HEIN_BOUND_URL)\n",
    "download_dataset(HEIN_DAILY_URL)"
   ],
   "metadata": {
    "collapsed": false
   }
  },
  {
   "cell_type": "code",
   "execution_count": null,
   "outputs": [],
   "source": [
    "process_dataset('hein-daily', deduplicate=True, min_speech_length=20)\n",
    "#process_dataset('hein-bound')"
   ],
   "metadata": {
    "collapsed": false
   }
  },
  {
   "cell_type": "code",
   "execution_count": null,
   "outputs": [],
   "source": [],
   "metadata": {
    "collapsed": false
   }
  }
 ],
 "metadata": {
  "kernelspec": {
   "display_name": "Python 3",
   "language": "python",
   "name": "python3"
  },
  "language_info": {
   "codemirror_mode": {
    "name": "ipython",
    "version": 2
   },
   "file_extension": ".py",
   "mimetype": "text/x-python",
   "name": "python",
   "nbconvert_exporter": "python",
   "pygments_lexer": "ipython2",
   "version": "2.7.6"
  }
 },
 "nbformat": 4,
 "nbformat_minor": 0
}
